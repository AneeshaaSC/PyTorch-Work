{
  "nbformat": 4,
  "nbformat_minor": 0,
  "metadata": {
    "colab": {
      "name": "3_2_sgd_momentum_adam.ipynb",
      "version": "0.3.2",
      "provenance": [],
      "collapsed_sections": []
    },
    "kernelspec": {
      "display_name": "Python 3",
      "language": "python",
      "name": "python3"
    }
  },
  "cells": [
    {
      "metadata": {
        "deletable": false,
        "editable": false,
        "nbgrader": {
          "checksum": "76f331e42b18f90c2798827fd09f7916",
          "grade": false,
          "grade_id": "cell-64f625d2f2a95421",
          "locked": true,
          "schema_version": 1,
          "solution": false
        },
        "id": "BEXeDMVj7cQA",
        "colab_type": "text"
      },
      "cell_type": "markdown",
      "source": [
        "# Part 2: Stochastic Gradient Descent, Momentum, and Adam"
      ]
    },
    {
      "metadata": {
        "deletable": false,
        "editable": false,
        "nbgrader": {
          "checksum": "7f0ff2c2c93f9726d6df73febe04ee97",
          "grade": false,
          "grade_id": "cell-4298e9d3fced7f34",
          "locked": true,
          "schema_version": 1,
          "solution": false
        },
        "id": "tEopC9e27cQC",
        "colab_type": "text"
      },
      "cell_type": "markdown",
      "source": [
        "### For this part of the lab, using the same data and setup as in Part 1, compare how stochastic gradient descent (SGD), SGD with momentum, and ADAM will perform. You are free to write all of the code on your own, or if you prefer, you can fill in the missing sections in the code below."
      ]
    },
    {
      "metadata": {
        "deletable": false,
        "editable": false,
        "nbgrader": {
          "checksum": "d1c4e30f2dcd1eaf1c6aa91f689bf6d7",
          "grade": false,
          "grade_id": "cell-d5a58ae230138c8a",
          "locked": true,
          "schema_version": 1,
          "solution": false
        },
        "id": "lnfoHaW57cQD",
        "colab_type": "text"
      },
      "cell_type": "markdown",
      "source": [
        "### Start by reusing some of the functions you have coded for Part 1 to compute the hypothesis, the gradient of the cost function, and the cost function. This code will then be used by the next section of the workbook."
      ]
    },
    {
      "metadata": {
        "id": "cX1xE9kRqscG",
        "colab_type": "code",
        "colab": {}
      },
      "cell_type": "code",
      "source": [
        "import torch\n",
        "import numpy as np\n",
        "import matplotlib.pyplot as plt\n",
        "\n",
        "## generate M data points roughly forming a line (noise added)\n",
        "M = 50\n",
        "theta_true = torch.Tensor([[0.5], [2]])\n",
        "\n",
        "X = 10 * torch.rand(M, 2) - 5\n",
        "X[:, 1] = 1.0\n",
        "\n",
        "y = torch.mm(X, theta_true) + 0.3 * torch.randn(M, 1)"
      ],
      "execution_count": 0,
      "outputs": []
    },
    {
      "metadata": {
        "id": "KTj5Ia6LrAw3",
        "colab_type": "code",
        "outputId": "883f59ef-c00d-4e8e-e2c2-61fbfa73e271",
        "colab": {
          "base_uri": "https://localhost:8080/",
          "height": 34
        }
      },
      "cell_type": "code",
      "source": [
        "y.shape"
      ],
      "execution_count": 2,
      "outputs": [
        {
          "output_type": "execute_result",
          "data": {
            "text/plain": [
              "torch.Size([50, 1])"
            ]
          },
          "metadata": {
            "tags": []
          },
          "execution_count": 2
        }
      ]
    },
    {
      "metadata": {
        "deletable": false,
        "nbgrader": {
          "checksum": "14db73c902e1aba6fd752b6e28234498",
          "grade": true,
          "grade_id": "cell-f09153a723d1bb21",
          "locked": false,
          "points": 0,
          "schema_version": 1,
          "solution": true
        },
        "id": "NZMxDGcs7cQE",
        "colab_type": "code",
        "colab": {}
      },
      "cell_type": "code",
      "source": [
        "## hypothesis computes $h_theta$\n",
        "\n",
        "def hypothesis(theta, X):\n",
        "    # YOUR CODE HERE\n",
        "    return X @ theta\n",
        "    #raise NotImplementedError()\n",
        "\n",
        "## grad_cost_func computes the gradient of J for linear regression given J is the MSE \n",
        "def grad_cost_func(theta, X, y): \n",
        "    # YOUR CODE HERE\n",
        "    M = X.shape[0]\n",
        "    grad =  (1/M) * X.t() @ (X @ theta - y) \n",
        "    return grad\n",
        "    #raise NotImplementedError()\n",
        "\n",
        "## cost_func computes the cost function J\n",
        "def cost_func(theta, X, y): \n",
        "    # YOUR CODE HERE\n",
        "    M = X.shape[0]\n",
        "    h = hypothesis(theta, X)\n",
        "    diff = h-y\n",
        "    cost = (diff**2).sum(0)\n",
        "    cost = cost/(2*M)\n",
        "    return cost \n",
        "    #raise NotImplementedError()"
      ],
      "execution_count": 0,
      "outputs": []
    },
    {
      "metadata": {
        "deletable": false,
        "editable": false,
        "nbgrader": {
          "checksum": "34e932803ed631e6d14a1f09103b98c2",
          "grade": false,
          "grade_id": "cell-4f05371072d188fa",
          "locked": true,
          "schema_version": 1,
          "solution": false
        },
        "id": "ZyCwZy107cQI",
        "colab_type": "text"
      },
      "cell_type": "markdown",
      "source": [
        "## Now we'd like to compare how stochastic gradient descent (SGD), SGD with momentum, and ADAM will run over weight updates. Complete the defined functions below and make sure to add the parameters which may need to be passed into the functions as well. Plot the weight updates over the contour plot using varying colours. Note, for clarity, you may only want to plot some of the updates."
      ]
    },
    {
      "metadata": {
        "id": "0ZKdgcALByhh",
        "colab_type": "code",
        "colab": {}
      },
      "cell_type": "code",
      "source": [
        "## The weight update computed using the ADAM optimisation algorithm\n",
        "def weightupdate_adam(count, X, y, alpha, beta_1, beta_2, theta,db,dw):\n",
        "  Vdw = torch.tensor(1)\n",
        "  Vdb = torch.tensor(1)\n",
        "  Sdw = torch.tensor(1)\n",
        "  Sdb = torch.tensor(1)\n",
        "  \n",
        "  # YOUR CODE HERE\n",
        "  epsilon = 1**-7\n",
        "\n",
        "  if count == 1:\n",
        "    \n",
        "    Vdw = 0\n",
        "    Sdw = 0\n",
        "    Vdb = 0\n",
        "    Sdb = 0\n",
        "    \n",
        "  #db,dw = grad_cost_func(theta, X, y)\n",
        "  Vdw = beta_1 * Vdw + (1-beta_1) * dw\n",
        "  Vdb = beta_1 * Vdb + (1-beta_1) * db\n",
        "\n",
        "  Sdw = beta_2 * Sdw + (1-beta_2) * dw * dw\n",
        "  Sdb = beta_2 * Sdb + (1-beta_2) * db * db\n",
        "\n",
        "  Vdw_c = Vdw/(1-beta_1**count)\n",
        "  Vdb_c = Vdb/(1-beta_1**count)\n",
        "\n",
        "  Sdw_c = Sdw/(1-beta_2**count)\n",
        "  Sdb_c = Sdb/(1-beta_2**count)\n",
        "\n",
        "  theta[0] = theta[0] - alpha * (Vdb_c/torch.sqrt(Sdb_c+epsilon))\n",
        "  theta[1] = theta[1] - alpha * (Vdw_c/torch.sqrt(Sdw_c+epsilon))\n",
        "\n",
        "  return theta\n",
        "      \n",
        "  #raise NotImplementedError()"
      ],
      "execution_count": 0,
      "outputs": []
    },
    {
      "metadata": {
        "id": "ecnthRD_B0gx",
        "colab_type": "code",
        "colab": {}
      },
      "cell_type": "code",
      "source": [
        "## The weight update computed using SGD + momentum\n",
        "def weightupdate_sgd_momentum(count,theta, X, y, beta_1,db,dw, alpha):\n",
        "  Vdw = torch.tensor(1)\n",
        "  Vdb = torch.tensor(1)\n",
        "    # YOUR CODE HERE\n",
        "  if count == 1:\n",
        "    \n",
        "    Vdw = 0\n",
        "    Vdb = 0 \n",
        "      \n",
        "  #db,dw = grad_cost_func(theta, X, y)\n",
        "  Vdw = beta_1 * Vdw + (1-beta_1) * dw\n",
        "  Vdb = beta_1 * Vdb + (1-beta_1) * db\n",
        "      \n",
        "  #Vdw_c = Vdw/(1-beta_1**count)\n",
        "  #Vdb_c = Vdb/(1-beta_1**count)\n",
        "      \n",
        "  theta[0] = theta[0] - alpha * Vdb#Vdb_c\n",
        "  theta[1] = theta[1] - alpha * Vdw#Vdw_c\n",
        "      \n",
        "  return theta\n",
        "  \n",
        "    #raise NotImplementedError()"
      ],
      "execution_count": 0,
      "outputs": []
    },
    {
      "metadata": {
        "id": "Wgr50rHaB1mp",
        "colab_type": "code",
        "colab": {}
      },
      "cell_type": "code",
      "source": [
        "## The weight updated computed using SGD\n",
        "def weigthupdate_sgd(count, X, y, alpha,theta,db,dw):\n",
        "  # YOUR CODE HERE\n",
        "  #db,dw = grad_cost_func(theta, X, y)\n",
        "  theta[0] = theta[0] - alpha * db\n",
        "  theta[1] = theta[1] - alpha * dw\n",
        "   \n",
        "  return theta\n",
        "  #raise NotImplementedError()"
      ],
      "execution_count": 0,
      "outputs": []
    },
    {
      "metadata": {
        "id": "p2uzJMTwB5mw",
        "colab_type": "code",
        "colab": {}
      },
      "cell_type": "code",
      "source": [
        "N = 200\n",
        "beta_1 = 0.9\n",
        "beta_2 = 0.999\n",
        "alpha = 0.1\n"
      ],
      "execution_count": 0,
      "outputs": []
    },
    {
      "metadata": {
        "id": "9xvlzTksqX_1",
        "colab_type": "text"
      },
      "cell_type": "markdown",
      "source": [
        "**STOCHASTIC GRADIENT DESCENT**"
      ]
    },
    {
      "metadata": {
        "id": "Z8TeCdfE7A_Q",
        "colab_type": "code",
        "colab": {}
      },
      "cell_type": "code",
      "source": [
        "theta_sg_hist = torch.Tensor(M * N - M , 2)\n",
        "count = 0\n",
        "theta_sg = torch.Tensor([[-2],[2]]) #initialise\n",
        "dwsg = torch.tensor(1)\n",
        "dbsg = torch.tensor(1)\n"
      ],
      "execution_count": 0,
      "outputs": []
    },
    {
      "metadata": {
        "id": "Kb_iqAr16je2",
        "colab_type": "code",
        "colab": {}
      },
      "cell_type": "code",
      "source": [
        "for j in range(1,N):\n",
        " \n",
        "  for i in range(0,M):\n",
        " \n",
        "    x = X[i,:].reshape(1,2)\n",
        "    \n",
        "    dbsg,dwsg = grad_cost_func(theta_sg, x, y[i])\n",
        "    \n",
        "    theta_sg = weigthupdate_sgd(j, x, y[i], alpha, theta_sg, dbsg, dwsg)\n",
        " \n",
        "    theta_sg_hist[count][0] = theta_sg[0]\n",
        "    theta_sg_hist[count][1] = theta_sg[1] \n",
        "    count = count + 1\n",
        "    "
      ],
      "execution_count": 0,
      "outputs": []
    },
    {
      "metadata": {
        "id": "hdAHf5d6qgfd",
        "colab_type": "text"
      },
      "cell_type": "markdown",
      "source": [
        "**GRADIENT DESCENT WITH MOMENTUM**"
      ]
    },
    {
      "metadata": {
        "id": "E6ijS4YcvFga",
        "colab_type": "code",
        "colab": {}
      },
      "cell_type": "code",
      "source": [
        "theta_m_hist = torch.Tensor(M * N - M , 2)\n",
        "count = 0\n",
        "theta_m = torch.Tensor([[-2],[2]]) #initialise\n",
        "dwm = torch.tensor(1)\n",
        "dbm = torch.tensor(1)"
      ],
      "execution_count": 0,
      "outputs": []
    },
    {
      "metadata": {
        "id": "qx_oqJHUwwfJ",
        "colab_type": "code",
        "colab": {}
      },
      "cell_type": "code",
      "source": [
        "for j in range(1,N):\n",
        " \n",
        "  for i in range(0,M):\n",
        " \n",
        "    x = X[i,:].reshape(1,2)\n",
        "    \n",
        "    dbm,dwm = grad_cost_func(theta_m, x, y[i])\n",
        "    \n",
        "    theta_m = weightupdate_sgd_momentum(j,theta_m, x, y[i], beta_1, dbm, dwm, alpha)\n",
        " \n",
        "    theta_m_hist[count][0] = theta_m[0]\n",
        "    theta_m_hist[count][1] = theta_m[1] \n",
        "    count = count + 1"
      ],
      "execution_count": 0,
      "outputs": []
    },
    {
      "metadata": {
        "id": "_IoXBjexqmGF",
        "colab_type": "text"
      },
      "cell_type": "markdown",
      "source": [
        "**ADAM OPTIMIZATION**"
      ]
    },
    {
      "metadata": {
        "id": "QSSs6OGsxXVK",
        "colab_type": "code",
        "colab": {}
      },
      "cell_type": "code",
      "source": [
        "theta_ad_hist = torch.Tensor(M * N - M , 2)\n",
        "count = 0\n",
        "theta_ad = torch.Tensor([[-2],[2]]) #initialise\n",
        "dwad = torch.tensor(1)\n",
        "dbad = torch.tensor(1)"
      ],
      "execution_count": 0,
      "outputs": []
    },
    {
      "metadata": {
        "id": "45EC37UozPjg",
        "colab_type": "code",
        "colab": {}
      },
      "cell_type": "code",
      "source": [
        "for j in range(1,N):\n",
        " \n",
        "  for i in range(0,M):\n",
        "\n",
        "    x = X[i,:].reshape(1,2)\n",
        "    \n",
        "    dbad,dwad = grad_cost_func(theta_ad, x, y[i])\n",
        "    \n",
        "    theta_ad = weightupdate_adam(j, x, y[i], alpha, beta_1, beta_2, theta_ad, dbad, dwad)\n",
        "    \n",
        "    theta_ad_hist[count][0] = theta_ad[0]\n",
        "    theta_ad_hist[count][1] = theta_ad[1] \n",
        "    count = count + 1"
      ],
      "execution_count": 0,
      "outputs": []
    },
    {
      "metadata": {
        "id": "M20cYVb5rLIs",
        "colab_type": "text"
      },
      "cell_type": "markdown",
      "source": [
        "**CONTOUR PLOTS FOR COMPARISON OF DESCENT**"
      ]
    },
    {
      "metadata": {
        "id": "du0JKo3mC2XA",
        "colab_type": "code",
        "colab": {}
      },
      "cell_type": "code",
      "source": [
        "theta_0_vals = np.linspace(-2,4,100)  #(100,)\n",
        "theta_1_vals = np.linspace(0,4,100)   #(100,)\n",
        "theta = torch.Tensor(len(theta_0_vals),2)   #(100,2)"
      ],
      "execution_count": 0,
      "outputs": []
    },
    {
      "metadata": {
        "id": "zXXY-wHFxHAA",
        "colab_type": "code",
        "colab": {}
      },
      "cell_type": "code",
      "source": [
        "J = torch.Tensor(len(theta_0_vals),len(theta_0_vals))\n",
        "th = torch.Tensor(2,1)\n"
      ],
      "execution_count": 0,
      "outputs": []
    },
    {
      "metadata": {
        "id": "vATslooV7cQO",
        "colab_type": "code",
        "colab": {}
      },
      "cell_type": "code",
      "source": [
        "# Compute the value of the cost function, J, over all the thetas in order to plot the contour below.\n",
        "# YOUR CODE HERE\n",
        "\n",
        "for i in range(len(theta_0_vals)):\n",
        "  for j in range(len(theta_1_vals)):\n",
        "    th[0] = theta_0_vals[i]\n",
        "    th[1] = theta_1_vals[j]\n",
        "    \n",
        "    J[i,j] = cost_func(th, X, y)\n",
        "  \n",
        "#raise NotImplementedError()\n"
      ],
      "execution_count": 0,
      "outputs": []
    },
    {
      "metadata": {
        "id": "DcqU5yfbC5wQ",
        "colab_type": "code",
        "outputId": "395230b9-9348-48bc-a284-9e75e977208d",
        "colab": {
          "base_uri": "https://localhost:8080/",
          "height": 394
        }
      },
      "cell_type": "code",
      "source": [
        "\n",
        "xc,yc = np.meshgrid(theta_0_vals, theta_1_vals)\n",
        "plt.figure(figsize=(22,6))\n",
        "\n",
        "plt.plot(theta_sg_hist[:,0].numpy(),theta_sg_hist[:,1].numpy(),c='r',label = 'Stochastic Gradient Descent')\n",
        "plt.plot(theta_m_hist[:,0].numpy(),theta_m_hist[:,1].numpy(),c='b',label = 'Gradient Descent with Momentum')\n",
        "plt.plot(theta_ad_hist[:,0].numpy(),theta_ad_hist[:,1].numpy(),c='g',label = 'Gradient Descent with Adam Optimization')\n",
        "contours = plt.contour(xc, yc, J, 20)\n",
        "plt.legend(loc ='center right')\n"
      ],
      "execution_count": 24,
      "outputs": [
        {
          "output_type": "execute_result",
          "data": {
            "text/plain": [
              "<matplotlib.legend.Legend at 0x7f83afde5668>"
            ]
          },
          "metadata": {
            "tags": []
          },
          "execution_count": 24
        },
        {
          "output_type": "display_data",
          "data": {
            "image/png": "[encoded data removed]",
            "text/plain": [
              "<Figure size 1584x432 with 1 Axes>"
            ]
          },
          "metadata": {
            "tags": []
          }
        }
      ]
    },
    {
      "metadata": {
        "id": "eIBFRR2eC8dw",
        "colab_type": "code",
        "colab": {}
      },
      "cell_type": "code",
      "source": [
        "# Now plot the output of SGD, momentum and Adam all on the same plot for comparison\n",
        "# YOUR CODE HERE\n",
        "#raise NotImplementedError()"
      ],
      "execution_count": 0,
      "outputs": []
    },
    {
      "metadata": {
        "id": "m5XLMKQzC8XY",
        "colab_type": "code",
        "colab": {}
      },
      "cell_type": "code",
      "source": [
        ""
      ],
      "execution_count": 0,
      "outputs": []
    }
  ]
}