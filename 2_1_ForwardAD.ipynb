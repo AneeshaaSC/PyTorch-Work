{
  "nbformat": 4,
  "nbformat_minor": 0,
  "metadata": {
    "colab": {
      "name": "2_1_ForwardAD.ipynb",
      "version": "0.3.2",
      "provenance": [],
      "collapsed_sections": []
    },
    "kernelspec": {
      "display_name": "Python 3",
      "language": "python",
      "name": "python3"
    }
  },
  "cells": [
    {
      "metadata": {
        "deletable": false,
        "editable": false,
        "nbgrader": {
          "checksum": "f415941a3a1516f0b3e2b93249aff57d",
          "grade": false,
          "grade_id": "cell-1015fd7f8a1783c7",
          "locked": true,
          "schema_version": 1,
          "solution": false
        },
        "id": "84KhSHryKtPM",
        "colab_type": "text"
      },
      "cell_type": "markdown",
      "source": [
        "# Part 1: Forward Mode Automatic Differentiation\n",
        "\n",
        "Forward mode AD can simply be implemented by defining a class to represent [dual numbers](https://en.wikipedia.org/wiki/Dual_number) which hold the value and its derivative. The following skeleton defines a dual number and implements multiplication. \n",
        "\n",
        "__Tasks:__\n",
        "\n",
        "- Addition (`__add__`) is incomplete - can you finish it? \n",
        "- Can you also implement division (`__truediv__`), subtraction (`__sub__`) and power (`__pow__`)?"
      ]
    },
    {
      "metadata": {
        "deletable": false,
        "nbgrader": {
          "checksum": "33fa490908871a743dabb3060ebe112e",
          "grade": false,
          "grade_id": "cell-a645b47036f56c2e",
          "locked": false,
          "schema_version": 1,
          "solution": true
        },
        "id": "FxW4JeC3KtPO",
        "colab_type": "code",
        "colab": {}
      },
      "cell_type": "code",
      "source": [
        "import math\n",
        "\n",
        "class DualNumber:\n",
        "    def __init__(self, value, dvalue):\n",
        "        self.value = value\n",
        "        self.dvalue = dvalue\n",
        "\n",
        "    def __str__(self):\n",
        "        return str(self.value) + \" + \" + str(self.dvalue) + \"ε\"\n",
        "\n",
        "    def __mul__(self, other):\n",
        "        return DualNumber(self.value * other.value,\n",
        "            self.dvalue * other.value + other.dvalue * self.value)\n",
        "    \n",
        "    def __add__(self, other):\n",
        "        #TODO: finish me\n",
        "        # YOUR CODE HERE\n",
        "        return DualNumber(self.value + other.value, self.dvalue + other.dvalue)\n",
        "        #raise NotImplementedError()\n",
        "    \n",
        "    def __sub__(self, other):\n",
        "        #TODO: finish me\n",
        "        # YOUR CODE HERE\n",
        "        return DualNumber(self.value - other.value, self.dvalue - other.dvalue)\n",
        "      \n",
        "    def __truediv__(self, other):\n",
        "      return DualNumber(self.value / other.value, (self.dvalue/other.value - self.value * other.dvalue/other.value ** 2))\n",
        "      #return DualNumber(self.value / other.value, (self.value*other.dvalue - self.dvalue * other.value) / (other.value ** 2))\n",
        "      \n",
        "    def __pow__(self, other):\n",
        "        return DualNumber(self.value ** other.value, other.value * self.value**(other.value-1) * self.dvalue + math.log(self.value) * self.value ** other.value * other.dvalue)\n",
        "      \n",
        "      \n",
        "    # TODO: add missing methods\n",
        "    # YOUR CODE HERE\n",
        "    #raise NotImplementedError()"
      ],
      "execution_count": 0,
      "outputs": []
    },
    {
      "metadata": {
        "deletable": false,
        "editable": false,
        "nbgrader": {
          "checksum": "e9afb52c0524256aa416c8e0ceec60de",
          "grade": true,
          "grade_id": "cell-7923d5c39d574cd7",
          "locked": true,
          "points": 3,
          "schema_version": 1,
          "solution": false
        },
        "id": "avRw4ArAKtPT",
        "colab_type": "code",
        "outputId": "9e649f97-3fec-40db-ab08-58e594474482",
        "colab": {
          "base_uri": "https://localhost:8080/",
          "height": 34
        }
      },
      "cell_type": "code",
      "source": [
        "# Tests\n",
        "\n",
        "print(DualNumber(1,0) + DualNumber(1,0) / DualNumber(1,0) - DualNumber(1,0)**DualNumber(1,0))\n"
      ],
      "execution_count": 2,
      "outputs": [
        {
          "output_type": "stream",
          "text": [
            "1.0 + 0.0ε\n"
          ],
          "name": "stdout"
        }
      ]
    },
    {
      "metadata": {
        "deletable": false,
        "editable": false,
        "nbgrader": {
          "checksum": "be03930a421d27414e745ac5839fddd3",
          "grade": false,
          "grade_id": "cell-2c8ce137dbdd2f9d",
          "locked": true,
          "schema_version": 1,
          "solution": false
        },
        "id": "LCA0tt6IKtPY",
        "colab_type": "text"
      },
      "cell_type": "markdown",
      "source": [
        "## Implementing math functions\n",
        "\n",
        "We also need to implement some core math functions. Here's the sine function for a dual number:"
      ]
    },
    {
      "metadata": {
        "deletable": false,
        "editable": false,
        "nbgrader": {
          "checksum": "1fc46030449c0860972520bddf2a498d",
          "grade": false,
          "grade_id": "cell-30886f6180e2ca7c",
          "locked": true,
          "schema_version": 1,
          "solution": false
        },
        "id": "pJYkj_PwKtPZ",
        "colab_type": "code",
        "colab": {}
      },
      "cell_type": "code",
      "source": [
        "def sin(x):\n",
        "    return DualNumber(math.sin(x.value), math.cos(x.value)*x.dvalue)"
      ],
      "execution_count": 0,
      "outputs": []
    },
    {
      "metadata": {
        "deletable": false,
        "editable": false,
        "nbgrader": {
          "checksum": "54b68135467f7b83dfa9749df021c932",
          "grade": false,
          "grade_id": "cell-9b585bf1afe72cca",
          "locked": true,
          "schema_version": 1,
          "solution": false
        },
        "id": "9dWr82KyKtPc",
        "colab_type": "text"
      },
      "cell_type": "markdown",
      "source": [
        "__Task:__ can you implement the _cosine_ (`cos`), _tangent_ (`tan`), and _exponential_ (`exp`) functions in the code block below?"
      ]
    },
    {
      "metadata": {
        "deletable": false,
        "nbgrader": {
          "checksum": "2bea3862089cbfe7a78ceaa915a87a3b",
          "grade": false,
          "grade_id": "cell-61b9462cb781a8e1",
          "locked": false,
          "schema_version": 1,
          "solution": true
        },
        "id": "UtOwZo1tKtPd",
        "colab_type": "code",
        "colab": {}
      },
      "cell_type": "code",
      "source": [
        "# TODO: implement additional math functions on dual numbers\n",
        "\n",
        "def cos(x):\n",
        "    # YOUR CODE HERE\n",
        "    return DualNumber(math.cos(x.value), -1 * math.sin(x.value) * x.dvalue)\n",
        "    #raise NotImplementedError()\n",
        "\n",
        "def tan(x):\n",
        "    # YOUR CODE HERE\n",
        "    return DualNumber(math.tan(x.value), (1/(math.cos(x.value) **2)) * x.dvalue)\n",
        "    #raise NotImplementedError()\n",
        "\n",
        "def exp(x):\n",
        "    # YOUR CODE HERE\n",
        "    return DualNumber(math.exp(x.value), math.exp(x.value) * x.dvalue)\n",
        "    #raise NotImplementedError()"
      ],
      "execution_count": 0,
      "outputs": []
    },
    {
      "metadata": {
        "deletable": false,
        "editable": false,
        "nbgrader": {
          "checksum": "29c49048fd70b07ab3819fcb5e4972ec",
          "grade": true,
          "grade_id": "cell-9055ec23e6e9ffb8",
          "locked": true,
          "points": 3,
          "schema_version": 1,
          "solution": false
        },
        "id": "KWjFzIjcKtPg",
        "colab_type": "code",
        "colab": {}
      },
      "cell_type": "code",
      "source": [
        "# Tests\n",
        "assert cos(DualNumber(0,0)).value == 1\n",
        "assert tan(DualNumber(0,0)).value == 0\n",
        "assert exp(DualNumber(0,0)).value == 1\n"
      ],
      "execution_count": 0,
      "outputs": []
    },
    {
      "metadata": {
        "deletable": false,
        "editable": false,
        "nbgrader": {
          "checksum": "5f834befbd408096b4d11ec9cd22159c",
          "grade": false,
          "grade_id": "cell-0429b8810d0cf3a3",
          "locked": true,
          "schema_version": 1,
          "solution": false
        },
        "id": "K880Kg2BKtPj",
        "colab_type": "text"
      },
      "cell_type": "markdown",
      "source": [
        "## Time to try it out\n",
        "\n",
        "We're now in a position to try our implementation.\n",
        "\n",
        "__Task:__ \n",
        "\n",
        "- Try running the following code to compute the value of the function $z=x\\cdot y+sin(x)$ given $x=0.5$ and $y=4.2$, together with the derivative $\\partial z/\\partial x$ at that point. "
      ]
    },
    {
      "metadata": {
        "deletable": false,
        "nbgrader": {
          "checksum": "ff1399f6f7101774bd4d3e9c49ed6458",
          "grade": false,
          "grade_id": "cell-12f7c8fa42784946",
          "locked": false,
          "schema_version": 1,
          "solution": true
        },
        "id": "CK4brp63KtPk",
        "colab_type": "code",
        "outputId": "909288f3-06a0-45c6-eab8-17bb6fa588bd",
        "colab": {
          "base_uri": "https://localhost:8080/",
          "height": 34
        }
      },
      "cell_type": "code",
      "source": [
        "# YOUR CODE HERE\n",
        "x = 0.5\n",
        "dxdx = 1\n",
        "dxdy = 0\n",
        "\n",
        "###\n",
        "y = 4.2\n",
        "dydy = 1\n",
        "dydx = 0\n",
        "\n",
        "z = x * y + math.sin(x)\n",
        "\n",
        "dz_dx = DualNumber(x,1) * DualNumber(y,0) + sin(DualNumber(x,1))\n",
        "print(dz_dx)\n",
        "#raise NotImplementedError()"
      ],
      "execution_count": 6,
      "outputs": [
        {
          "output_type": "stream",
          "text": [
            "2.579425538604203 + 5.077582561890373ε\n"
          ],
          "name": "stdout"
        }
      ]
    },
    {
      "metadata": {
        "deletable": false,
        "editable": false,
        "nbgrader": {
          "checksum": "7719838a896c466bcc58ecb273f89175",
          "grade": false,
          "grade_id": "cell-204b8d399904b523",
          "locked": true,
          "schema_version": 1,
          "solution": false
        },
        "id": "U2mkuC28KtPo",
        "colab_type": "text"
      },
      "cell_type": "markdown",
      "source": [
        "__Task__: Differentiate the above function with respect to $x$ and write the symbolic derivatives in the following box. Verify the result computed above is correct by plugging-in the values into your symbolic gradient expression."
      ]
    },
    {
      "metadata": {
        "deletable": false,
        "nbgrader": {
          "checksum": "07ca9c4df262fa25d98cea6f0e36d979",
          "grade": true,
          "grade_id": "cell-1ae4d0a0801a142a",
          "locked": false,
          "points": 2,
          "schema_version": 1,
          "solution": true
        },
        "id": "-GyVgATWKtPp",
        "colab_type": "text"
      },
      "cell_type": "markdown",
      "source": [
        "dz/dx =  y + cos(x) = 4.2 + cos(0.5) =  5.077"
      ]
    },
    {
      "metadata": {
        "id": "-3nFIt3BKtPq",
        "colab_type": "text"
      },
      "cell_type": "markdown",
      "source": [
        "__Task:__ Now use the code block below to compute the derivative $\\partial z/\\partial y$ of the above expression (at the same point $x=0.5, y=4.2$ as above) and store the derivative in the variable `dzdy` (just the derivative, not the Dual Number). Verify by hand that the result is correct."
      ]
    },
    {
      "metadata": {
        "deletable": false,
        "nbgrader": {
          "checksum": "cd3fbc66891ec630d8d3029df8ad0766",
          "grade": false,
          "grade_id": "cell-eab763bf1b218dc8",
          "locked": false,
          "schema_version": 1,
          "solution": true
        },
        "id": "jgmXmX2AKtPr",
        "colab_type": "code",
        "outputId": "fdeff1f3-a110-48f5-f917-522962c76fc4",
        "colab": {
          "base_uri": "https://localhost:8080/",
          "height": 34
        }
      },
      "cell_type": "code",
      "source": [
        "# YOUR CODE HERE\n",
        "#raise NotImplementedError()\n",
        "\n",
        "dzdy = DualNumber(x,0) * DualNumber(y,1) \n",
        "\n",
        "print(dzdy)\n"
      ],
      "execution_count": 7,
      "outputs": [
        {
          "output_type": "stream",
          "text": [
            "2.1 + 0.5ε\n"
          ],
          "name": "stdout"
        }
      ]
    },
    {
      "metadata": {
        "deletable": false,
        "editable": false,
        "nbgrader": {
          "checksum": "0e76a35421fc942d840771242e268dad",
          "grade": true,
          "grade_id": "cell-a2f9f0ca4b1ed763",
          "locked": true,
          "points": 2,
          "schema_version": 1,
          "solution": false
        },
        "id": "ICtjhb1MKtPu",
        "colab_type": "code",
        "colab": {}
      },
      "cell_type": "code",
      "source": [
        "#Tests\n",
        "# z = x * y + math.sin(x)\n",
        "\n",
        "# dzdy = x \n",
        "assert dzdy.dvalue == 0.5\n",
        " \n"
      ],
      "execution_count": 0,
      "outputs": []
    },
    {
      "metadata": {
        "deletable": false,
        "editable": false,
        "nbgrader": {
          "checksum": "827a8ca599d07c42685e571f2491cf48",
          "grade": false,
          "grade_id": "cell-8faa6c905dd61e82",
          "locked": true,
          "schema_version": 1,
          "solution": false
        },
        "id": "iOdjYfmOKtPx",
        "colab_type": "text"
      },
      "cell_type": "markdown",
      "source": [
        "__Task:__ Finally, use the code block below to experiment and test the other math functions and methods you created."
      ]
    },
    {
      "metadata": {
        "deletable": false,
        "nbgrader": {
          "checksum": "7c7f4bfbb93248c24b6fac692d6d3109",
          "grade": true,
          "grade_id": "cell-b71d4bb64928ee38",
          "locked": false,
          "points": 0,
          "schema_version": 1,
          "solution": true
        },
        "id": "KhMOM5BwKtPy",
        "colab_type": "code",
        "outputId": "3888f2c7-cb2d-41a3-893a-80a2ceb6660a",
        "colab": {
          "base_uri": "https://localhost:8080/",
          "height": 34
        }
      },
      "cell_type": "code",
      "source": [
        "# YOUR CODE HERE\n",
        "r = 5\n",
        "\n",
        "s = 2\n",
        "\n",
        "dz2_dr =   DualNumber(r,1) / DualNumber(s,0) +tan(DualNumber(r,1))\n",
        "\n",
        "print(dz2_dr)\n",
        "\n",
        "#raise NotImplementedError()\n",
        "\n",
        "\n",
        "#dz2_dr = 1/s + 1/(cosr*cosr))\n",
        "#       = 12.927\n",
        " "
      ],
      "execution_count": 9,
      "outputs": [
        {
          "output_type": "stream",
          "text": [
            "-0.8805150062465859 + 12.927881707458354ε\n"
          ],
          "name": "stdout"
        }
      ]
    },
    {
      "metadata": {
        "id": "2rxTu-OWw0w6",
        "colab_type": "code",
        "outputId": "529e1790-4ad3-4d59-cb1b-163c86401240",
        "colab": {
          "base_uri": "https://localhost:8080/",
          "height": 34
        }
      },
      "cell_type": "code",
      "source": [
        "dz3_dr = DualNumber(r,1) ** DualNumber(s,0) +  cos(DualNumber(r,1))\n",
        "print(dz3_dr)\n",
        "\n",
        "#dz3_dr =  ( s*r**s-1 ) -sin(r) = 10.95\n"
      ],
      "execution_count": 10,
      "outputs": [
        {
          "output_type": "stream",
          "text": [
            "25.283662185463225 + 10.958924274663138ε\n"
          ],
          "name": "stdout"
        }
      ]
    },
    {
      "metadata": {
        "id": "AWH1f4bV9gWI",
        "colab_type": "code",
        "colab": {
          "base_uri": "https://localhost:8080/",
          "height": 34
        },
        "outputId": "7825ec98-5912-4c05-fa42-b8448d6e0a1e"
      },
      "cell_type": "code",
      "source": [
        "dz4_dr = DualNumber(r,1) ** DualNumber(s,0) *  cos(DualNumber(r,1))\n",
        "print(dz4_dr)\n"
      ],
      "execution_count": 12,
      "outputs": [
        {
          "output_type": "stream",
          "text": [
            "7.091554636580656 + 26.809728721210725ε\n"
          ],
          "name": "stdout"
        }
      ]
    },
    {
      "metadata": {
        "id": "aMGcxZj5UGhg",
        "colab_type": "code",
        "colab": {}
      },
      "cell_type": "code",
      "source": [
        "# value calculated by hand and value calculated using Forward AD are the same"
      ],
      "execution_count": 0,
      "outputs": []
    }
  ]
}