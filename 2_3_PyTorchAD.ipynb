{
  "nbformat": 4,
  "nbformat_minor": 0,
  "metadata": {
    "colab": {
      "name": "2_3_PyTorchAD.ipynb",
      "version": "0.3.2",
      "provenance": [],
      "collapsed_sections": []
    },
    "kernelspec": {
      "display_name": "Python 3",
      "language": "python",
      "name": "python3"
    }
  },
  "cells": [
    {
      "metadata": {
        "deletable": false,
        "editable": false,
        "nbgrader": {
          "checksum": "97d3c80864403311b3342877098cef5b",
          "grade": false,
          "grade_id": "cell-f38ec230aeb63f9d",
          "locked": true,
          "schema_version": 1,
          "solution": false
        },
        "id": "0nxlvuIGyLpM",
        "colab_type": "text"
      },
      "cell_type": "markdown",
      "source": [
        "# Part 3: Reverse Mode Automatic Differentiation with PyTorch"
      ]
    },
    {
      "metadata": {
        "deletable": false,
        "editable": false,
        "nbgrader": {
          "checksum": "529f94d77025a0b9b2a4aa44ed0b1f1b",
          "grade": false,
          "grade_id": "cell-2afa7eb0f5479ff9",
          "locked": true,
          "schema_version": 1,
          "solution": false
        },
        "id": "h4vr3B44yLpO",
        "colab_type": "code",
        "colab": {}
      },
      "cell_type": "code",
      "source": [
        "# Execute this code block to install dependencies when running on colab\n",
        "try:\n",
        "    import torch\n",
        "except:\n",
        "    from os.path import exists\n",
        "    from wheel.pep425tags import get_abbr_impl, get_impl_ver, get_abi_tag\n",
        "    platform = '{}{}-{}'.format(get_abbr_impl(), get_impl_ver(), get_abi_tag())\n",
        "    cuda_output = !ldconfig -p|grep cudart.so|sed -e 's/.*\\.\\([0-9]*\\)\\.\\([0-9]*\\)$/cu\\1\\2/'\n",
        "    accelerator = cuda_output[0] if exists('/dev/nvidia0') else 'cpu'\n",
        "\n",
        "    !pip install -q http://download.pytorch.org/whl/{accelerator}/torch-1.0.0-{platform}-linux_x86_64.whl torchvision"
      ],
      "execution_count": 0,
      "outputs": []
    },
    {
      "metadata": {
        "deletable": false,
        "editable": false,
        "nbgrader": {
          "checksum": "8c13a801a6e49369b91bda4e906cb1cf",
          "grade": false,
          "grade_id": "cell-3d5d3b3ff9e2ac9f",
          "locked": true,
          "schema_version": 1,
          "solution": false
        },
        "id": "Xl5SrF3HyLpR",
        "colab_type": "text"
      },
      "cell_type": "markdown",
      "source": [
        "PyTorch implements Dynamic Reverse Mode Automatic Differentiation, much like we did in the previous exercise. There is one really major difference in what PyTorch provides over our simple example: it works directly with matrices (`Tensor`s) rather than with scalars (although obviously a matrix can represent a scalar).\n",
        "\n",
        "In this tutorial, we'll explore PyTorch's AD implementation. Note that we're using the API of PyTorch 0.4 or later which simplifies use of AD (previous versions required wrapping all `Tensor`s that you wanted to compute gradients of in `Variable` objects; PyTorch 0.4 removes the need to do this and allows `Tensor`s themselves to track gradients).\n",
        "\n",
        "We'll start with the simple example we tried earlier in the code block below:\n",
        "\n",
        "__Task:__ Run the following code and verify the solution is correct"
      ]
    },
    {
      "metadata": {
        "deletable": false,
        "editable": false,
        "nbgrader": {
          "checksum": "0d5aa67ad79542449beb79e8b65a50bc",
          "grade": false,
          "grade_id": "cell-a7740c83bfcaa983",
          "locked": true,
          "schema_version": 1,
          "solution": false
        },
        "id": "MQYXkiZuyLpS",
        "colab_type": "code",
        "outputId": "c88cd54e-c43c-45b7-946b-3f576d3737e7",
        "colab": {
          "base_uri": "https://localhost:8080/",
          "height": 67
        }
      },
      "cell_type": "code",
      "source": [
        "import torch\n",
        "\n",
        "# set up the problem\n",
        "x = torch.tensor(0.5, requires_grad=True)\n",
        "y = torch.tensor(4.2, requires_grad=True)\n",
        "z = x * y + torch.sin(x)\n",
        "\n",
        "print(\"z = \" + str(z.item()))\n",
        "\n",
        "z.backward() # this goes through the computation graph and accumulates the gradients in the cached .grad attributes\n",
        "print(\"dz/dx = \" + str(x.grad.item()))\n",
        "print(\"dz/dy = \" + str(y.grad.item()))"
      ],
      "execution_count": 2,
      "outputs": [
        {
          "output_type": "stream",
          "text": [
            "z = 2.57942533493042\n",
            "dz/dx = 5.077582359313965\n",
            "dz/dy = 0.5\n"
          ],
          "name": "stdout"
        }
      ]
    },
    {
      "metadata": {
        "deletable": false,
        "editable": false,
        "nbgrader": {
          "checksum": "aac08494fe446009596079eba3016ddf",
          "grade": false,
          "grade_id": "cell-cb3a2586467dd0ad",
          "locked": true,
          "schema_version": 1,
          "solution": false
        },
        "id": "C-9IaBQ0yLpW",
        "colab_type": "text"
      },
      "cell_type": "markdown",
      "source": [
        "As with our own AD implementation, PyTorch lets us differentiate through an algorithm.\n",
        "\n",
        "__Task__: Use the block below to compute the gradient $\\partial z/\\partial x$ of the following pseudocode algorithm and store the result in the `dzdx` variable:\n",
        "\n",
        "    x = 0.5\n",
        "    z = 1\n",
        "    i = 0\n",
        "    while i<2:\n",
        "        z = (z + i) * x * x\n",
        "        i = i + 1"
      ]
    },
    {
      "metadata": {
        "deletable": false,
        "nbgrader": {
          "checksum": "b689f4aaf1507a7f532c6059896ad02e",
          "grade": false,
          "grade_id": "cell-62e1f0838236eddf",
          "locked": false,
          "schema_version": 1,
          "solution": true
        },
        "id": "ubwS6lU5yLpX",
        "colab_type": "code",
        "outputId": "169a7861-b60b-4e19-815e-99ed519c3344",
        "colab": {
          "base_uri": "https://localhost:8080/",
          "height": 50
        }
      },
      "cell_type": "code",
      "source": [
        "# i = 0\n",
        "# z0 = z*x*x\n",
        "# z = (z0 + 1) * x * x\n",
        "# z = zx^4 + x^2\n",
        "\n",
        "x = torch.tensor(0.5, requires_grad=True)\n",
        "\n",
        "z = ( x**2 + 1 )* x**2\n",
        "\n",
        "print(\"z = \" + str(z.item()))\n",
        "\n",
        "z.backward()\n",
        "\n",
        "dzdx = x.grad.item()\n",
        "\n",
        "print(dzdx)\n",
        "# YOUR CODE HERE\n",
        "#raise NotImplementedError()"
      ],
      "execution_count": 3,
      "outputs": [
        {
          "output_type": "stream",
          "text": [
            "z = 0.3125\n",
            "1.5\n"
          ],
          "name": "stdout"
        }
      ]
    },
    {
      "metadata": {
        "deletable": false,
        "editable": false,
        "nbgrader": {
          "checksum": "bc79555ad292cd1026a9db951f9f8e47",
          "grade": true,
          "grade_id": "cell-cbe71552690f710b",
          "locked": true,
          "points": 4,
          "schema_version": 1,
          "solution": false
        },
        "id": "b4GBK9dUyLpa",
        "colab_type": "code",
        "colab": {}
      },
      "cell_type": "code",
      "source": [
        "assert dzdx == 1.5\n"
      ],
      "execution_count": 0,
      "outputs": []
    },
    {
      "metadata": {
        "deletable": false,
        "editable": false,
        "nbgrader": {
          "checksum": "d999d1c4c84b066fb15be1972dcaaad8",
          "grade": false,
          "grade_id": "cell-824ecf46b4875b5f",
          "locked": true,
          "schema_version": 1,
          "solution": false
        },
        "id": "qLgelFwCyLpd",
        "colab_type": "text"
      },
      "cell_type": "markdown",
      "source": [
        "## PyTorch limitations: in-place operations and aliasing\n",
        "\n",
        "PyTorch will throw an error at runtime if you try to differentiate through an in-place operation on a tensor. \n",
        "\n",
        "__Task__: Run the following code to see this in action."
      ]
    },
    {
      "metadata": {
        "deletable": false,
        "editable": false,
        "nbgrader": {
          "checksum": "eb07b791962399cd736ede26b99309e8",
          "grade": false,
          "grade_id": "cell-813341e9825354bf",
          "locked": true,
          "schema_version": 1,
          "solution": false
        },
        "id": "rXMDoJrxyLpe",
        "colab_type": "code",
        "outputId": "db40dd0e-9770-4e56-a688-214d9d7bb2b0",
        "colab": {
          "base_uri": "https://localhost:8080/",
          "height": 498
        }
      },
      "cell_type": "code",
      "source": [
        "x = torch.tensor(1.0, requires_grad=True)\n",
        "y = x.tanh()\n",
        "print('x: ',x)\n",
        "print('y before inplace operation: ',y)\n",
        "y.add_(3) # inplace addition\n",
        "print('y after inplace operation: ',y)\n",
        "print('x after inplace operation on y: ',x)\n",
        "y.backward()"
      ],
      "execution_count": 5,
      "outputs": [
        {
          "output_type": "stream",
          "text": [
            "x:  tensor(1., requires_grad=True)\n",
            "y before inplace operation:  tensor(0.7616, grad_fn=<TanhBackward>)\n",
            "y after inplace operation:  tensor(3.7616, grad_fn=<AddBackward0>)\n",
            "x after inplace operation on y:  tensor(1., requires_grad=True)\n"
          ],
          "name": "stdout"
        },
        {
          "output_type": "error",
          "ename": "RuntimeError",
          "evalue": "ignored",
          "traceback": [
            "\u001b[0;31m---------------------------------------------------------------------------\u001b[0m",
            "\u001b[0;31mRuntimeError\u001b[0m                              Traceback (most recent call last)",
            "\u001b[0;32m<ipython-input-5-c6d4854bb093>\u001b[0m in \u001b[0;36m<module>\u001b[0;34m()\u001b[0m\n\u001b[1;32m      6\u001b[0m \u001b[0mprint\u001b[0m\u001b[0;34m(\u001b[0m\u001b[0;34m'y after inplace operation: '\u001b[0m\u001b[0;34m,\u001b[0m\u001b[0my\u001b[0m\u001b[0;34m)\u001b[0m\u001b[0;34m\u001b[0m\u001b[0;34m\u001b[0m\u001b[0m\n\u001b[1;32m      7\u001b[0m \u001b[0mprint\u001b[0m\u001b[0;34m(\u001b[0m\u001b[0;34m'x after inplace operation on y: '\u001b[0m\u001b[0;34m,\u001b[0m\u001b[0mx\u001b[0m\u001b[0;34m)\u001b[0m\u001b[0;34m\u001b[0m\u001b[0;34m\u001b[0m\u001b[0m\n\u001b[0;32m----> 8\u001b[0;31m \u001b[0my\u001b[0m\u001b[0;34m.\u001b[0m\u001b[0mbackward\u001b[0m\u001b[0;34m(\u001b[0m\u001b[0;34m)\u001b[0m\u001b[0;34m\u001b[0m\u001b[0;34m\u001b[0m\u001b[0m\n\u001b[0m",
            "\u001b[0;32m/usr/local/lib/python3.6/dist-packages/torch/tensor.py\u001b[0m in \u001b[0;36mbackward\u001b[0;34m(self, gradient, retain_graph, create_graph)\u001b[0m\n\u001b[1;32m    100\u001b[0m                 \u001b[0mproducts\u001b[0m\u001b[0;34m.\u001b[0m \u001b[0mDefaults\u001b[0m \u001b[0mto\u001b[0m\u001b[0;31m \u001b[0m\u001b[0;31m`\u001b[0m\u001b[0;31m`\u001b[0m\u001b[0;32mFalse\u001b[0m\u001b[0;31m`\u001b[0m\u001b[0;31m`\u001b[0m\u001b[0;34m.\u001b[0m\u001b[0;34m\u001b[0m\u001b[0;34m\u001b[0m\u001b[0m\n\u001b[1;32m    101\u001b[0m         \"\"\"\n\u001b[0;32m--> 102\u001b[0;31m         \u001b[0mtorch\u001b[0m\u001b[0;34m.\u001b[0m\u001b[0mautograd\u001b[0m\u001b[0;34m.\u001b[0m\u001b[0mbackward\u001b[0m\u001b[0;34m(\u001b[0m\u001b[0mself\u001b[0m\u001b[0;34m,\u001b[0m \u001b[0mgradient\u001b[0m\u001b[0;34m,\u001b[0m \u001b[0mretain_graph\u001b[0m\u001b[0;34m,\u001b[0m \u001b[0mcreate_graph\u001b[0m\u001b[0;34m)\u001b[0m\u001b[0;34m\u001b[0m\u001b[0;34m\u001b[0m\u001b[0m\n\u001b[0m\u001b[1;32m    103\u001b[0m \u001b[0;34m\u001b[0m\u001b[0m\n\u001b[1;32m    104\u001b[0m     \u001b[0;32mdef\u001b[0m \u001b[0mregister_hook\u001b[0m\u001b[0;34m(\u001b[0m\u001b[0mself\u001b[0m\u001b[0;34m,\u001b[0m \u001b[0mhook\u001b[0m\u001b[0;34m)\u001b[0m\u001b[0;34m:\u001b[0m\u001b[0;34m\u001b[0m\u001b[0;34m\u001b[0m\u001b[0m\n",
            "\u001b[0;32m/usr/local/lib/python3.6/dist-packages/torch/autograd/__init__.py\u001b[0m in \u001b[0;36mbackward\u001b[0;34m(tensors, grad_tensors, retain_graph, create_graph, grad_variables)\u001b[0m\n\u001b[1;32m     88\u001b[0m     Variable._execution_engine.run_backward(\n\u001b[1;32m     89\u001b[0m         \u001b[0mtensors\u001b[0m\u001b[0;34m,\u001b[0m \u001b[0mgrad_tensors\u001b[0m\u001b[0;34m,\u001b[0m \u001b[0mretain_graph\u001b[0m\u001b[0;34m,\u001b[0m \u001b[0mcreate_graph\u001b[0m\u001b[0;34m,\u001b[0m\u001b[0;34m\u001b[0m\u001b[0;34m\u001b[0m\u001b[0m\n\u001b[0;32m---> 90\u001b[0;31m         allow_unreachable=True)  # allow_unreachable flag\n\u001b[0m\u001b[1;32m     91\u001b[0m \u001b[0;34m\u001b[0m\u001b[0m\n\u001b[1;32m     92\u001b[0m \u001b[0;34m\u001b[0m\u001b[0m\n",
            "\u001b[0;31mRuntimeError\u001b[0m: one of the variables needed for gradient computation has been modified by an inplace operation"
          ]
        }
      ]
    },
    {
      "metadata": {
        "deletable": false,
        "editable": false,
        "nbgrader": {
          "checksum": "bfd84ec33f62c537a0ea6ea4f87291de",
          "grade": false,
          "grade_id": "cell-b9986c88256e8468",
          "locked": true,
          "schema_version": 1,
          "solution": false
        },
        "id": "M5KBCljVyLph",
        "colab_type": "text"
      },
      "cell_type": "markdown",
      "source": [
        "Aliasing is also something that can't be differentiated through and will result in a slightly more cryptic error.\n",
        "\n",
        "__Task__: Run the following code to see this in action. If you don't understand what this code does add some `print` statements to show the values of `x` and `y` at various points."
      ]
    },
    {
      "metadata": {
        "id": "t72nlqmVyLpi",
        "colab_type": "code",
        "outputId": "11ba280f-f33c-4a01-ec54-e60ac1479623",
        "colab": {
          "base_uri": "https://localhost:8080/",
          "height": 498
        }
      },
      "cell_type": "code",
      "source": [
        "x = torch.tensor([1, 2, 3, 4], requires_grad=True, dtype=torch.float)\n",
        "print('x: ',x)\n",
        "y = x[:1] # y is an alias to 1st element in x\n",
        "print('y before inplace operation: ',y)\n",
        "y.add_(3)\n",
        "print('y after inplace operation: ',y)\n",
        "print('x after inplace operation on y: ',x)\n",
        "y.backward()"
      ],
      "execution_count": 6,
      "outputs": [
        {
          "output_type": "stream",
          "text": [
            "x:  tensor([1., 2., 3., 4.], requires_grad=True)\n",
            "y before inplace operation:  tensor([1.], grad_fn=<SliceBackward>)\n",
            "y after inplace operation:  tensor([4.], grad_fn=<AsStridedBackward>)\n",
            "x after inplace operation on y:  tensor([4., 2., 3., 4.], grad_fn=<CopySlices>)\n"
          ],
          "name": "stdout"
        },
        {
          "output_type": "error",
          "ename": "RuntimeError",
          "evalue": "ignored",
          "traceback": [
            "\u001b[0;31m---------------------------------------------------------------------------\u001b[0m",
            "\u001b[0;31mRuntimeError\u001b[0m                              Traceback (most recent call last)",
            "\u001b[0;32m<ipython-input-6-9cc2dfce5653>\u001b[0m in \u001b[0;36m<module>\u001b[0;34m()\u001b[0m\n\u001b[1;32m      6\u001b[0m \u001b[0mprint\u001b[0m\u001b[0;34m(\u001b[0m\u001b[0;34m'y after inplace operation: '\u001b[0m\u001b[0;34m,\u001b[0m\u001b[0my\u001b[0m\u001b[0;34m)\u001b[0m\u001b[0;34m\u001b[0m\u001b[0;34m\u001b[0m\u001b[0m\n\u001b[1;32m      7\u001b[0m \u001b[0mprint\u001b[0m\u001b[0;34m(\u001b[0m\u001b[0;34m'x after inplace operation on y: '\u001b[0m\u001b[0;34m,\u001b[0m\u001b[0mx\u001b[0m\u001b[0;34m)\u001b[0m\u001b[0;34m\u001b[0m\u001b[0;34m\u001b[0m\u001b[0m\n\u001b[0;32m----> 8\u001b[0;31m \u001b[0my\u001b[0m\u001b[0;34m.\u001b[0m\u001b[0mbackward\u001b[0m\u001b[0;34m(\u001b[0m\u001b[0;34m)\u001b[0m\u001b[0;34m\u001b[0m\u001b[0;34m\u001b[0m\u001b[0m\n\u001b[0m",
            "\u001b[0;32m/usr/local/lib/python3.6/dist-packages/torch/tensor.py\u001b[0m in \u001b[0;36mbackward\u001b[0;34m(self, gradient, retain_graph, create_graph)\u001b[0m\n\u001b[1;32m    100\u001b[0m                 \u001b[0mproducts\u001b[0m\u001b[0;34m.\u001b[0m \u001b[0mDefaults\u001b[0m \u001b[0mto\u001b[0m\u001b[0;31m \u001b[0m\u001b[0;31m`\u001b[0m\u001b[0;31m`\u001b[0m\u001b[0;32mFalse\u001b[0m\u001b[0;31m`\u001b[0m\u001b[0;31m`\u001b[0m\u001b[0;34m.\u001b[0m\u001b[0;34m\u001b[0m\u001b[0;34m\u001b[0m\u001b[0m\n\u001b[1;32m    101\u001b[0m         \"\"\"\n\u001b[0;32m--> 102\u001b[0;31m         \u001b[0mtorch\u001b[0m\u001b[0;34m.\u001b[0m\u001b[0mautograd\u001b[0m\u001b[0;34m.\u001b[0m\u001b[0mbackward\u001b[0m\u001b[0;34m(\u001b[0m\u001b[0mself\u001b[0m\u001b[0;34m,\u001b[0m \u001b[0mgradient\u001b[0m\u001b[0;34m,\u001b[0m \u001b[0mretain_graph\u001b[0m\u001b[0;34m,\u001b[0m \u001b[0mcreate_graph\u001b[0m\u001b[0;34m)\u001b[0m\u001b[0;34m\u001b[0m\u001b[0;34m\u001b[0m\u001b[0m\n\u001b[0m\u001b[1;32m    103\u001b[0m \u001b[0;34m\u001b[0m\u001b[0m\n\u001b[1;32m    104\u001b[0m     \u001b[0;32mdef\u001b[0m \u001b[0mregister_hook\u001b[0m\u001b[0;34m(\u001b[0m\u001b[0mself\u001b[0m\u001b[0;34m,\u001b[0m \u001b[0mhook\u001b[0m\u001b[0;34m)\u001b[0m\u001b[0;34m:\u001b[0m\u001b[0;34m\u001b[0m\u001b[0;34m\u001b[0m\u001b[0m\n",
            "\u001b[0;32m/usr/local/lib/python3.6/dist-packages/torch/autograd/__init__.py\u001b[0m in \u001b[0;36mbackward\u001b[0;34m(tensors, grad_tensors, retain_graph, create_graph, grad_variables)\u001b[0m\n\u001b[1;32m     88\u001b[0m     Variable._execution_engine.run_backward(\n\u001b[1;32m     89\u001b[0m         \u001b[0mtensors\u001b[0m\u001b[0;34m,\u001b[0m \u001b[0mgrad_tensors\u001b[0m\u001b[0;34m,\u001b[0m \u001b[0mretain_graph\u001b[0m\u001b[0;34m,\u001b[0m \u001b[0mcreate_graph\u001b[0m\u001b[0;34m,\u001b[0m\u001b[0;34m\u001b[0m\u001b[0;34m\u001b[0m\u001b[0m\n\u001b[0;32m---> 90\u001b[0;31m         allow_unreachable=True)  # allow_unreachable flag\n\u001b[0m\u001b[1;32m     91\u001b[0m \u001b[0;34m\u001b[0m\u001b[0m\n\u001b[1;32m     92\u001b[0m \u001b[0;34m\u001b[0m\u001b[0m\n",
            "\u001b[0;31mRuntimeError\u001b[0m: leaf variable has been moved into the graph interior"
          ]
        }
      ]
    },
    {
      "metadata": {
        "deletable": false,
        "editable": false,
        "nbgrader": {
          "checksum": "4e749620afa15537eddb1f61565c927e",
          "grade": false,
          "grade_id": "cell-76e1b1d7cbc02388",
          "locked": true,
          "schema_version": 1,
          "solution": false
        },
        "id": "ZMFvbrioyLpl",
        "colab_type": "text"
      },
      "cell_type": "markdown",
      "source": [
        "## Dealing with multiple outputs\n",
        "\n",
        "PyTorch can deal with the case where there are multiple output variables if we can formulate the expression in terms of tensor operations. Consider the example from the presentation for example:\n",
        "\n",
        "$$\\begin{cases}\n",
        "     z = 2x + \\sin x\\\\\n",
        "     v = 4x + \\cos x\n",
        "\\end{cases}$$\n",
        "\n",
        "We could formulate this as:\n",
        "\n",
        "$$\n",
        "\\begin{bmatrix}z \\\\ v\\end{bmatrix} = \\begin{bmatrix}2 \\\\ 4\\end{bmatrix} \\odot \\bar{x} + \\begin{bmatrix}1 \\\\ 0\\end{bmatrix} \\odot \\sin\\bar x + \\begin{bmatrix}0 \\\\ 1\\end{bmatrix} \\odot \\cos\\bar x\n",
        "$$\n",
        "\n",
        "where \n",
        "\n",
        "$$\n",
        "\\bar x = \\begin{bmatrix}x \\\\ x\\end{bmatrix}\n",
        "$$\n",
        "\n",
        "and $\\odot$ represents the Hadamard or element-wise product. This is demonstrated using PyTorch in the following code block.\n",
        "\n",
        "__Task:__ run the code below."
      ]
    },
    {
      "metadata": {
        "deletable": false,
        "editable": false,
        "nbgrader": {
          "checksum": "5ab1d7ea5f6b1a017f7949fa0dd1c8f1",
          "grade": false,
          "grade_id": "cell-58a1e0676df73645",
          "locked": true,
          "schema_version": 1,
          "solution": false
        },
        "id": "qYEvtIwFyLpm",
        "colab_type": "code",
        "outputId": "161e10f9-577f-4d2d-cfa9-f005efd6eefe",
        "colab": {
          "base_uri": "https://localhost:8080/",
          "height": 50
        }
      },
      "cell_type": "code",
      "source": [
        "x = torch.tensor([[1.0],[1.0]], requires_grad=True)\n",
        "\n",
        "zv = ( torch.tensor([[2.0],[4.0]]) * x +\n",
        "         torch.tensor([[1.0], [0.0]]) * torch.sin(x) +\n",
        "         torch.tensor([[0.0], [1.0]]) * torch.cos(x) )\n",
        "        \n",
        "zv.backward(torch.tensor([[1.0],[1.0]])) # Note as we have \"multiple outputs\" we must pass in a tensor of weights of the correct size\n",
        "\n",
        "print(x.grad)"
      ],
      "execution_count": 0,
      "outputs": [
        {
          "output_type": "stream",
          "text": [
            "tensor([[2.5403],\n",
            "        [3.1585]])\n"
          ],
          "name": "stdout"
        }
      ]
    },
    {
      "metadata": {
        "deletable": false,
        "editable": false,
        "nbgrader": {
          "checksum": "68158fbb8633636d8fdeaab2b8066186",
          "grade": false,
          "grade_id": "cell-5253f44d76ef4079",
          "locked": true,
          "schema_version": 1,
          "solution": false
        },
        "id": "lAOLn6jLyLpp",
        "colab_type": "text"
      },
      "cell_type": "markdown",
      "source": [
        "__Task:__ Use the following box to write down the derivative of the expression for $\\begin{bmatrix}z \\\\ v\\end{bmatrix}$ and verify the gradients $\\partial z/\\partial x$ and $\\partial v/\\partial x$ are correct for $x=1$."
      ]
    },
    {
      "metadata": {
        "deletable": false,
        "nbgrader": {
          "checksum": "1e10ee0f8f8395414cb70aa241376003",
          "grade": true,
          "grade_id": "cell-b85be7c90ef1f408",
          "locked": false,
          "points": 3,
          "schema_version": 1,
          "solution": true
        },
        "id": "1rsoIgX4yLpr",
        "colab_type": "text"
      },
      "cell_type": "markdown",
      "source": [
        "YOUR ANSWER HERE\n",
        "\n",
        "$\\partial z/\\partial x$ = 2 + Cos(x) = 2 + Cos(1) = 2.5403\n",
        "\n",
        "$\\partial v/\\partial x$ = 4 - Sin(x) = 4 - Sin(1) = 3.1585\n"
      ]
    },
    {
      "metadata": {
        "id": "a0dJFVJJyLps",
        "colab_type": "text"
      },
      "cell_type": "markdown",
      "source": [
        "## Gradient descent & gradients with respect to a vector\n",
        "Let's put everything together and using automatically computed gradients to find the minima of a function by taking steps down the gradient from an initial position. Rather than explicitly creating each input variable as a scalar as in the previous examples, we'll use a vector instead (so our gradients will be with respect to each element of the vector).\n",
        "\n",
        "__Task:__ work through the following example to see how taking gradients with respect to a vector works & how simple gradient descent optimisation can be implemented."
      ]
    },
    {
      "metadata": {
        "id": "GejEcYdbyLpt",
        "colab_type": "code",
        "outputId": "ac5d5029-b6a2-4d14-9aa5-6bc3022a6762",
        "colab": {
          "base_uri": "https://localhost:8080/",
          "height": 521
        }
      },
      "cell_type": "code",
      "source": [
        "# This is our starting vector\n",
        "initial=[[2.0], [1.0], [10.0]]\n",
        "\n",
        "# This is the function we will optimise (feel free to work out the analytic minima!)\n",
        "def function(x):\n",
        "    return x[0]**2 + x[1]**2 + x[2]**2\n",
        "\n",
        "x = torch.tensor(initial, requires_grad=True, dtype=torch.float)\n",
        "for i in range(0,100):\n",
        "    # manually dispose of the gradient (in reality it would be better to detach and zero it to reuse memory)\n",
        "    x.grad=None\n",
        "    # evaluate the function\n",
        "    J = function(x) \n",
        "    # auto-compute the gradients at the previously evaluated point x\n",
        "    J.backward()\n",
        "    # compute the update\n",
        "    z = x - x.grad*0.1 \n",
        "    x.data = z\n",
        "    \n",
        "    if i%10 == 0:\n",
        "        print((x, function(x).item()))\n"
      ],
      "execution_count": 20,
      "outputs": [
        {
          "output_type": "stream",
          "text": [
            "(tensor([[1.6000],\n",
            "        [0.8000],\n",
            "        [8.0000]], requires_grad=True), 67.19999694824219)\n",
            "(tensor([[0.1718],\n",
            "        [0.0859],\n",
            "        [0.8590]], requires_grad=True), 0.7747630476951599)\n",
            "(tensor([[0.0184],\n",
            "        [0.0092],\n",
            "        [0.0922]], requires_grad=True), 0.008932411670684814)\n",
            "(tensor([[0.0020],\n",
            "        [0.0010],\n",
            "        [0.0099]], requires_grad=True), 0.00010298370034433901)\n",
            "(tensor([[0.0002],\n",
            "        [0.0001],\n",
            "        [0.0011]], requires_grad=True), 1.1873213452417986e-06)\n",
            "(tensor([[2.2836e-05],\n",
            "        [1.1418e-05],\n",
            "        [1.1418e-04]], requires_grad=True), 1.3688886468798955e-08)\n",
            "(tensor([[2.4520e-06],\n",
            "        [1.2260e-06],\n",
            "        [1.2260e-05]], requires_grad=True), 1.5782215811999123e-10)\n",
            "(tensor([[2.6328e-07],\n",
            "        [1.3164e-07],\n",
            "        [1.3164e-06]], requires_grad=True), 1.8195657654207498e-12)\n",
            "(tensor([[2.8270e-08],\n",
            "        [1.4135e-08],\n",
            "        [1.4135e-07]], requires_grad=True), 2.0978168543115717e-14)\n",
            "(tensor([[3.0354e-09],\n",
            "        [1.5177e-09],\n",
            "        [1.5177e-08]], requires_grad=True), 2.418617877589929e-16)\n"
          ],
          "name": "stdout"
        }
      ]
    },
    {
      "metadata": {
        "deletable": false,
        "editable": false,
        "nbgrader": {
          "checksum": "695b9f45e86839069d2c91a03395d180",
          "grade": false,
          "grade_id": "cell-fe38c3ff8580d8e1",
          "locked": true,
          "schema_version": 1,
          "solution": false
        },
        "id": "mzdtgP4hyLpv",
        "colab_type": "text"
      },
      "cell_type": "markdown",
      "source": [
        "__Task__: Answer the following question in the box below: Why must the update in the code above be assigned to a different variable (the `z`) before being assigned to the `data` value of `x`?"
      ]
    },
    {
      "metadata": {
        "deletable": false,
        "nbgrader": {
          "checksum": "2b3a76629b34fb1c8a80c90d9df28dd9",
          "grade": true,
          "grade_id": "cell-855b4580505f3b5c",
          "locked": false,
          "points": 3,
          "schema_version": 1,
          "solution": true
        },
        "id": "vOp_d7mIyLpw",
        "colab_type": "text"
      },
      "cell_type": "markdown",
      "source": [
        "Updating the value of x directly, without z would qualify as an In-place operation, i.e x's values are modified without a copy being taken. This can potentially overwrite values required to compute gradient of x: x.grad. Hence, we use the gradient to compute the changed value, store it in z and then update x(after the gradient is computed)."
      ]
    },
    {
      "metadata": {
        "id": "CBZCj23jyLpx",
        "colab_type": "text"
      },
      "cell_type": "markdown",
      "source": [
        "## Differentiating through random operations\n",
        "\n",
        "We'll end with an example that will be important later in the course: differentiating with respect to the parameters of a random number generator.\n",
        "\n",
        "Assume that as some part of a differentiable program that we write we wish to incorporate a random element where we sample values, $z$ from a Normal distribution: $z \\sim \\mathcal{N}(\\mu,\\sigma^2)$. We want to learn the parameters of the generator $\\mu$ and $\\sigma^2$, but how can we do this? In a differentiable program setting we want to differentiate with respect to these parameters, but at first glance it isn't at all obvious what this means as the generator _just_ produces numbers which themselves don't have gradients.\n",
        "\n",
        "The answer is often called the _reparameterisation trick_: If we note that sampling a Normal distribution is equivalent to drawing numbers from a Uniform distribution and scaling and shifting them: $z \\sim \\mathcal{N}(\\mu,\\sigma^2) \\equiv z \\sim \\mu + \\sigma\\mathcal{U}(0,1)\\equiv z = \\mu + \\sigma \\zeta\\, \\rm{where}\\, \\zeta\\sim\\mathcal{U}(0,1)$. With this reparameterisation the gradients with respect to the parameters are obvious.\n",
        "\n",
        "The following code block demonstrates this in practice; each of the gradients can be interpreted as how much an infintesimal change in $\\mu$ or $\\sigma$ would change $z$ if we could repeat the sampling operation again with the same value of `torch.rand(1)` being produced:"
      ]
    },
    {
      "metadata": {
        "id": "vdHpE2guyLpy",
        "colab_type": "code",
        "outputId": "1abd43b7-138a-43ec-b64e-b1f200321e4e",
        "colab": {
          "base_uri": "https://localhost:8080/",
          "height": 185
        }
      },
      "cell_type": "code",
      "source": [
        "mu = torch.tensor(1.0, requires_grad=True)\n",
        "sigma = torch.tensor(1.0, requires_grad=True)\n",
        "\n",
        "for i in range(10):\n",
        "    mu.grad = None\n",
        "    sigma.grad = None\n",
        "    \n",
        "    z = mu + sigma * torch.rand(1)\n",
        "    z.backward()\n",
        "    print(\"z:\", z.item(), \"\\tdzdmu:\", mu.grad.item(), \"\\tdzdsigma:\", sigma.grad.item())"
      ],
      "execution_count": 21,
      "outputs": [
        {
          "output_type": "stream",
          "text": [
            "z: 1.3412556648254395 \tdzdmu: 1.0 \tdzdsigma: 0.34125572443008423\n",
            "z: 1.311904788017273 \tdzdmu: 1.0 \tdzdsigma: 0.31190478801727295\n",
            "z: 1.1855254173278809 \tdzdmu: 1.0 \tdzdsigma: 0.18552535772323608\n",
            "z: 1.362220048904419 \tdzdmu: 1.0 \tdzdsigma: 0.3622201085090637\n",
            "z: 1.775773525238037 \tdzdmu: 1.0 \tdzdsigma: 0.7757735848426819\n",
            "z: 1.4062628746032715 \tdzdmu: 1.0 \tdzdsigma: 0.4062628746032715\n",
            "z: 1.4503161907196045 \tdzdmu: 1.0 \tdzdsigma: 0.45031625032424927\n",
            "z: 1.7768607139587402 \tdzdmu: 1.0 \tdzdsigma: 0.7768607139587402\n",
            "z: 1.996206521987915 \tdzdmu: 1.0 \tdzdsigma: 0.9962064623832703\n",
            "z: 1.4457584619522095 \tdzdmu: 1.0 \tdzdsigma: 0.4457584619522095\n"
          ],
          "name": "stdout"
        }
      ]
    },
    {
      "metadata": {
        "id": "XmxiqYLSyLp2",
        "colab_type": "code",
        "colab": {}
      },
      "cell_type": "code",
      "source": [
        ""
      ],
      "execution_count": 0,
      "outputs": []
    }
  ]
}